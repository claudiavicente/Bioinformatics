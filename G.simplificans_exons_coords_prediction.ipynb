{
 "cells": [
  {
   "cell_type": "code",
   "execution_count": 1,
   "id": "ef6cf3ec",
   "metadata": {},
   "outputs": [],
   "source": [
    "import random\n",
    "import math\n",
    "import pandas as pd"
   ]
  },
  {
   "cell_type": "code",
   "execution_count": 2,
   "id": "5f304874",
   "metadata": {},
   "outputs": [],
   "source": [
    "def read_fasta(name):\n",
    "    try:\n",
    "        f = open(name,'r')\n",
    "        l = f.readlines()\n",
    "        del l[0]\n",
    "        return(l)\n",
    "    except IOError:\n",
    "        return(0)"
   ]
  },
  {
   "cell_type": "code",
   "execution_count": 3,
   "id": "ebdc7723",
   "metadata": {},
   "outputs": [],
   "source": [
    "def read_txt(name):\n",
    "    try:\n",
    "        f = open(name,'r')\n",
    "        l = f.readlines()\n",
    "        return(l)\n",
    "    except IOError:\n",
    "        return(0)"
   ]
  },
  {
   "cell_type": "code",
   "execution_count": 4,
   "id": "6efb7096",
   "metadata": {},
   "outputs": [],
   "source": [
    "def gff_file(name, genome):\n",
    "    try:\n",
    "        f = open(name,'r')\n",
    "        l = f.readlines()\n",
    "        l_conv = []\n",
    "        for e in l:       \n",
    "            orf = e.split()        \n",
    "            pi = int(orf[3]); pf = int(orf[4])\n",
    "            if orf[2] == 'single-exon':\n",
    "                sf = genome[pf - 3:pf]\n",
    "                l_conv.append(['ATG', pi - 2, sf, pf - 3]) \n",
    "            if orf[2] == 'initial-exon':\n",
    "                l_conv.append(['ATG', pi - 2, 'GT', pf - 1])\n",
    "            if orf[2] == 'internal-exon':\n",
    "                l_conv.append(['AG', pi - 3, 'GT', pf - 1])  \n",
    "            if orf[2] == 'final-exon':\n",
    "                sf = genome[pf - 3:pf]\n",
    "                l_conv.append(['AG', pi - 3, sf, pf - 3])\n",
    "        return(l_conv)\n",
    "    except IOError:\n",
    "        return(0)"
   ]
  },
  {
   "cell_type": "code",
   "execution_count": 5,
   "id": "a572e20d",
   "metadata": {},
   "outputs": [],
   "source": [
    "def dictionary(l):\n",
    "    d = {}\n",
    "    for e in l:       \n",
    "        l_aux = e.split()\n",
    "        d[l_aux[0]] = float(l_aux[1])\n",
    "    return (d)"
   ]
  },
  {
   "cell_type": "code",
   "execution_count": 6,
   "id": "8958729b",
   "metadata": {},
   "outputs": [],
   "source": [
    "def look_s (gaux, s):\n",
    "    l = []\n",
    "    lenght = len(s)\n",
    "    p = gaux.find(s)\n",
    "    paux = 0\n",
    "    while len(gaux) != 0 and p != -1:\n",
    "        l.append(p + paux)\n",
    "        gaux = gaux[p + lenght:]\n",
    "        paux = paux + p + lenght\n",
    "        p = gaux.find(s)\n",
    "    return(l)"
   ]
  },
  {
   "cell_type": "code",
   "execution_count": 7,
   "id": "61ebbcb4",
   "metadata": {},
   "outputs": [],
   "source": [
    "def get_pos(genome):\n",
    "    l_ATG = look_s(genome, 'ATG')\n",
    "    l_AG = look_s(genome, 'AG')\n",
    "    l_GT = look_s(genome, 'GT')\n",
    "    l_TAA = look_s(genome, 'TAA')\n",
    "    l_TAG = look_s(genome, 'TAG')\n",
    "    l_TGA = look_s(genome, 'TGA')\n",
    "    return(l_ATG, l_AG, l_GT, l_TAA, l_TAG, l_TGA)"
   ]
  },
  {
   "cell_type": "code",
   "execution_count": 8,
   "id": "49f9f4e7",
   "metadata": {},
   "outputs": [],
   "source": [
    "def ORF (l, genome):\n",
    "    l_signals_i = ['ATG', 'AG']\n",
    "    l_signals_f = ['GT', 'TAA', 'TAG', 'TGA']\n",
    "    l_stop = ['TAA', 'TAG', 'TGA']\n",
    "    l_pos_i = l[0:2]\n",
    "    l_pos_f = l[2:6]\n",
    "    l_orf = []\n",
    "    for i in range (0, len(l_signals_i)):\n",
    "        s_i = l_signals_i[i]\n",
    "        for p_i in l_pos_i[i]:\n",
    "            for j in range (0,len(l_signals_f)):\n",
    "                s_f = l_signals_f[j]\n",
    "                for p_f in l_pos_f[j]:\n",
    "                    if p_f - p_i + len(s_f) >= 10:\n",
    "                        if s_f in l_stop:\n",
    "                            cad_aux = genome[p_i:p_f]\n",
    "                        else:\n",
    "                            cad_aux = genome[p_i:p_f + 2]\n",
    "                        if 'TAA'not in cad_aux and 'TAG' not in cad_aux and 'TGA' not in cad_aux:\n",
    "                            l_orf.append([s_i, p_i, s_f, p_f])\n",
    "    return(l_orf)"
   ]
  },
  {
   "cell_type": "code",
   "execution_count": 9,
   "id": "2142e505",
   "metadata": {},
   "outputs": [],
   "source": [
    "def over_random(l_orf_true):\n",
    "    i = 0\n",
    "    while i < len(l_orf_true) - 1:\n",
    "        j = i + 1\n",
    "        while j < len(l_orf_true):\n",
    "            pi = l_orf_true[i][1]\n",
    "            pf = l_orf_true[i][3]\n",
    "            si = l_orf_true[j][1]\n",
    "            sf = l_orf_true[j][3]\n",
    "            if (pi <= si and si <= pf) or (pi <= sf and sf <= pf) or (si <= pi and pi <= sf) or (si <= pf and pf <= sf):\n",
    "                if random.random() >= 0.5:\n",
    "                    del l_orf_true[j]\n",
    "                else:\n",
    "                    l_orf_true[i] = l_orf_true[j]\n",
    "                    del l_orf_true[j]\n",
    "                    j = i + 1\n",
    "            else:\n",
    "                j = j + 1\n",
    "        i = i + 1\n",
    "    return(l_orf_true)"
   ]
  },
  {
   "cell_type": "code",
   "execution_count": 10,
   "id": "087e3614",
   "metadata": {},
   "outputs": [],
   "source": [
    "def overlap_GC(l_orf_true, genome):\n",
    "    i = 0\n",
    "    while i < len(l_orf_true) - 1:\n",
    "        j = i + 1\n",
    "        while j < len(l_orf_true):\n",
    "            pi = l_orf_true[i][1]\n",
    "            pf = l_orf_true[i][3]\n",
    "            si = l_orf_true[j][1]\n",
    "            sf = l_orf_true[j][3]\n",
    "            if (pi <= si and si <= pf) or (pi <= sf and sf <= pf) or (si <= pi and pi <= sf) or (si <= pf and pf <= sf):\n",
    "                cad1 = genome[pi+len(l_orf_true[i][0]):pf]\n",
    "                cad2 = genome[si+len(l_orf_true[j][0]):sf]\n",
    "                prop1 = (cad1.count('G') + cad1.count('C'))/(len(cad1))\n",
    "                prop2 = (cad2.count('G') + cad2.count('C'))/(len(cad2))\n",
    "                if prop1 >= prop2:\n",
    "                    del l_orf_true[j]\n",
    "                else:\n",
    "                    l_orf_true[i] = l_orf_true[j]\n",
    "                    del l_orf_true[j]\n",
    "                    j = i + 1\n",
    "            else:\n",
    "                j = j + 1\n",
    "        i = i + 1\n",
    "    return(l_orf_true)"
   ]
  },
  {
   "cell_type": "code",
   "execution_count": 11,
   "id": "b211e435",
   "metadata": {},
   "outputs": [],
   "source": [
    "def calc_codon(cad, d):\n",
    "    c_sum = 0\n",
    "    for codon in d:\n",
    "        if codon in cad:\n",
    "            c_sum = c_sum + math.log10(d[codon])\n",
    "    return (c_sum/(len(cad)//3))"
   ]
  },
  {
   "cell_type": "code",
   "execution_count": 12,
   "id": "f3e34d1b",
   "metadata": {},
   "outputs": [],
   "source": [
    "def overlap_codon(l_orf_true, genome, dic_codon):\n",
    "    i = 0\n",
    "    while i < len(l_orf_true) - 1:\n",
    "        j = i + 1\n",
    "        while j < len(l_orf_true):\n",
    "            pi = l_orf_true[i][1]\n",
    "            pf = l_orf_true[i][3]\n",
    "            si = l_orf_true[j][1]\n",
    "            sf = l_orf_true[j][3]\n",
    "            if (pi <= si and si <= pf) or (pi <= sf and sf <= pf) or (si <= pi and pi <= sf) or (si <= pf and pf <= sf):\n",
    "                if len(l_orf_true[i][0]) == 3:\n",
    "                    if len(l_orf_true[i][2]) == 2:\n",
    "                        cad1 = genome[pi + len(l_orf_true[i][0]):pf + 2]\n",
    "                    else:\n",
    "                        cad1 = genome[pi + len(l_orf_true[i][0]):pf]\n",
    "                else:\n",
    "                    if len(l_orf_true[i][2]) == 2:\n",
    "                        cad1 = genome[pi:pf + 2]\n",
    "                    else:\n",
    "                        cad1 = genome[pi:pf]\n",
    "                if len(l_orf_true[j][0]) == 3:\n",
    "                    if len(l_orf_true[j][2]) == 2:\n",
    "                        cad2 = genome[si + len(l_orf_true[j][0]):sf + 2]\n",
    "                    else:\n",
    "                        cad2 = genome[si + len(l_orf_true[j][0]):sf]\n",
    "                else:\n",
    "                    if len(l_orf_true[j][2]) == 2:\n",
    "                        cad2 = genome[si:sf + 2]\n",
    "                    else:\n",
    "                        cad2 = genome[si:sf]\n",
    "                res1 = calc_codon(cad1,dic_codon)\n",
    "                res2 = calc_codon(cad2,dic_codon)\n",
    "                if res1 >= res2:\n",
    "                    del l_orf_true[j]\n",
    "                else:\n",
    "                    l_orf_true[i] = l_orf_true[j]\n",
    "                    del l_orf_true[j]\n",
    "                    j = i + 1\n",
    "            else:\n",
    "                j = j + 1\n",
    "        i = i + 1\n",
    "    return(l_orf_true)"
   ]
  },
  {
   "cell_type": "code",
   "execution_count": 13,
   "id": "404756fb",
   "metadata": {},
   "outputs": [],
   "source": [
    "def conv_list(l):\n",
    "    for i in range (0,len(l)):\n",
    "        l[i] = l[i].split()\n",
    "    return(l)"
   ]
  },
  {
   "cell_type": "code",
   "execution_count": 14,
   "id": "8cc14fc3",
   "metadata": {},
   "outputs": [],
   "source": [
    "def calc(c,l):\n",
    "    s_calc = 0\n",
    "    for i in range(0, len(c)):\n",
    "        if c[i] == 'A':\n",
    "            s_calc = s_calc + math.log(float(l[i][0]))\n",
    "        elif c[i] == 'C':\n",
    "            s_calc = s_calc + math.log(float(l[i][1]))\n",
    "        elif c[i] == 'G':\n",
    "            s_calc = s_calc + math.log(float(l[i][2]))\n",
    "        else:\n",
    "            s_calc = s_calc + math.log(float(l[i][3]))\n",
    "    return(s_calc)"
   ]
  },
  {
   "cell_type": "code",
   "execution_count": 15,
   "id": "45ca33d2",
   "metadata": {},
   "outputs": [],
   "source": [
    "def calc_WMM(orf):\n",
    "    before = genome[orf[1] - 5:orf[1]]\n",
    "    if orf[0] == 'ATG':\n",
    "        before_calc = calc(before, l_START)\n",
    "    else:\n",
    "        before_calc = calc(before, l_ACCEPTOR)\n",
    "    after = genome[orf[3] + len(orf[2]):orf[3] + len(orf[2]) + 5]\n",
    "    if orf[2] == 'GT':\n",
    "        after_calc = calc(after, l_DONOR)\n",
    "    else:\n",
    "        after_calc = calc(after, l_STOP)\n",
    "    return(before_calc + after_calc)"
   ]
  },
  {
   "cell_type": "code",
   "execution_count": 16,
   "id": "95ea1428",
   "metadata": {},
   "outputs": [],
   "source": [
    "def codon_WMM(l_orf_true, genome, dic_codon): \n",
    "    i = 0\n",
    "    while i < len(l_orf_true) - 1:\n",
    "        j = i + 1\n",
    "        while j < len(l_orf_true):\n",
    "            pi = l_orf_true[i][1]\n",
    "            pf = l_orf_true[i][3]\n",
    "            si = l_orf_true[j][1]\n",
    "            sf = l_orf_true[j][3]\n",
    "            if (pi <= si and si <= pf) or (pi <= sf and sf <= pf) or (si <= pi and pi <= sf) or (si <= pf and pf <= sf):\n",
    "                if len(l_orf_true[i][0]) == 3:\n",
    "                    if len(l_orf_true[i][2]) == 2:\n",
    "                        cad1 = genome[pi + len(l_orf_true[i][0]):pf + 2]\n",
    "                    else:\n",
    "                        cad1 = genome[pi + len(l_orf_true[i][0]):pf]\n",
    "                else:\n",
    "                    if len(l_orf_true[i][2]) == 2:\n",
    "                        cad1 = genome[pi:pf + 2]\n",
    "                    else:\n",
    "                        cad1 = genome[pi:pf]\n",
    "                if len(l_orf_true[j][0]) == 3:\n",
    "                    if len(l_orf_true[j][2]) == 2:\n",
    "                        cad2 = genome[si + len(l_orf_true[j][0]):sf + 2]\n",
    "                    else:\n",
    "                        cad2 = genome[si + len(l_orf_true[j][0]):sf]\n",
    "                else:\n",
    "                    if len(l_orf_true[j][2]) == 2:\n",
    "                        cad2 = genome[si:sf + 2]\n",
    "                    else:\n",
    "                        cad2 = genome[si:sf]\n",
    "                res1 = calc_codon(cad1, dic_codon) + calc_WMM(l_orf_true[i])\n",
    "                res2 = calc_codon(cad2, dic_codon) + calc_WMM(l_orf_true[j])\n",
    "                if res1 >= res2:\n",
    "                    del l_orf_true[j]\n",
    "                else:\n",
    "                    l_orf_true[i] = l_orf_true[j]\n",
    "                    del l_orf_true[j]\n",
    "                    j = i + 1\n",
    "            else:\n",
    "                j = j + 1\n",
    "        i = i + 1\n",
    "    return(l_orf_true)"
   ]
  },
  {
   "cell_type": "code",
   "execution_count": 17,
   "id": "42586253",
   "metadata": {},
   "outputs": [],
   "source": [
    "def list_genome(genome, l_orfs):\n",
    "    lg = [0] * len(genome)\n",
    "    for i in l_orfs:\n",
    "        if len(i[2]) == 3:\n",
    "            pf = i[3] + 3\n",
    "        else:\n",
    "            pf = i[3] + 2\n",
    "        if len(i[0]) == 3:\n",
    "            pi = i[1]\n",
    "        else:\n",
    "            pi = i[1] + 2\n",
    "        for e in range (pi, pf): \n",
    "            lg[e] = 1\n",
    "    return(lg)"
   ]
  },
  {
   "cell_type": "code",
   "execution_count": 18,
   "id": "c3b4a637",
   "metadata": {},
   "outputs": [],
   "source": [
    "def calc_sp_FPR(l_r, l):\n",
    "    tp = 0; tn = 0; fp = 0; fn = 0\n",
    "    for i in range(0, len(l_r)):\n",
    "        if l_r[i] == 1:\n",
    "            if l[i] == 1:\n",
    "                tp = tp + 1\n",
    "            else:\n",
    "                fn = fn + 1      \n",
    "        else:\n",
    "            if l[i] == 0:\n",
    "                tn = tn + 1\n",
    "            else:\n",
    "                fp = fp + 1\n",
    "    return((tp/(tp + fp)), (fp/(fp + tn)))"
   ]
  },
  {
   "cell_type": "code",
   "execution_count": 19,
   "id": "ce2e7de2",
   "metadata": {},
   "outputs": [],
   "source": [
    "name_f = '/Volumes/TOSHIBA EXT/3r curs/1r quatri/Bioinformàtica I/Bioinformàtica amb Python/Pràctica/Gsimplicans.fasta'\n",
    "file_lines = read_fasta(name_f)\n",
    "if file_lines != 0:\n",
    "    genome = ''.join(file_lines)\n",
    "    genome = genome.replace('\\n','')\n",
    "    signals_list = get_pos(genome)\n",
    "    l_ORF = ORF(signals_list, genome)\n",
    "    l_ORF_1 = []\n",
    "    l_ORF_2 = []\n",
    "    l_ORF_3 = []\n",
    "    l_ORF_4 = []\n",
    "    for e in l_ORF:\n",
    "        l_ORF_1.append(e)\n",
    "        l_ORF_2.append(e)\n",
    "        l_ORF_3.append(e)\n",
    "        l_ORF_4.append(e)\n",
    "    l_ORF_random = over_random(l_ORF_1)\n",
    "    l_ORF_GC = overlap_GC(l_ORF_2, genome)\n",
    "    name_c = '/Volumes/TOSHIBA EXT/3r curs/1r quatri/Bioinformàtica I/Bioinformàtica amb Python/Pràctica/codons.txt'\n",
    "    c_lines=read_txt(name_c)\n",
    "    if c_lines != 0:\n",
    "        dic = dictionary(c_lines)\n",
    "        l_ORF_codon = overlap_codon(l_ORF_3, genome, dic)\n",
    "        name_a = '/Volumes/TOSHIBA EXT/3r curs/1r quatri/Bioinformàtica I/Bioinformàtica amb Python/Pràctica/acceptor.txt'\n",
    "        l_ACCEPTOR = read_txt(name_a)\n",
    "        name_d = '/Volumes/TOSHIBA EXT/3r curs/1r quatri/Bioinformàtica I/Bioinformàtica amb Python/Pràctica/donor.txt'\n",
    "        l_DONOR = read_txt(name_d)\n",
    "        name_s = '/Volumes/TOSHIBA EXT/3r curs/1r quatri/Bioinformàtica I/Bioinformàtica amb Python/Pràctica/start.txt'\n",
    "        l_START = read_txt(name_s)\n",
    "        name_t = '/Volumes/TOSHIBA EXT/3r curs/1r quatri/Bioinformàtica I/Bioinformàtica amb Python/Pràctica/stop.txt'\n",
    "        l_STOP = read_txt(name_t)\n",
    "        if l_ACCEPTOR != 0 and l_DONOR != 0 and l_START != 0 and l_STOP != 0:\n",
    "            l_ACCEPTOR = conv_list(l_ACCEPTOR)\n",
    "            l_DONOR = conv_list(l_DONOR)\n",
    "            l_START = conv_list(l_START)\n",
    "            l_STOP = conv_list(l_STOP)\n",
    "            l_ORF_WMM = codon_WMM(l_ORF_4, genome, dic)\n",
    "            name_gff = '/Volumes/TOSHIBA EXT/3r curs/1r quatri/Bioinformàtica I/Bioinformàtica amb Python/Pràctica/reals.gff'\n",
    "            l_ORF_reals = gff_file(name_gff, genome)\n",
    "            if l_ORF_reals != 0:\n",
    "                lg_random = list_genome(genome, l_ORF_random)\n",
    "                lg_GC = list_genome(genome, l_ORF_GC)\n",
    "                lg_codon = list_genome(genome, l_ORF_codon)\n",
    "                lg_WMM = list_genome(genome, l_ORF_WMM)\n",
    "                lg_reals = list_genome(genome, l_ORF_reals)\n",
    "                c_random = calc_sp_FPR(lg_reals, lg_random)\n",
    "                c_GC = calc_sp_FPR(lg_reals, lg_GC)\n",
    "                c_codon = calc_sp_FPR(lg_reals, lg_codon)\n",
    "                c_WMM = calc_sp_FPR(lg_reals, lg_WMM)"
   ]
  },
  {
   "cell_type": "code",
   "execution_count": 20,
   "id": "f5d61055",
   "metadata": {},
   "outputs": [
    {
     "name": "stdout",
     "output_type": "stream",
     "text": [
      "               SPECIFICITY       FPR\n",
      "Random            0.538732  0.527517\n",
      "GC                0.588889  0.446980\n",
      "Codon usage       0.561785  0.514094\n",
      "Weight matrix     0.631974  0.460403\n"
     ]
    }
   ],
   "source": [
    "lab = ['Random', 'GC', 'Codon usage', 'Weight matrix']\n",
    "df = pd.DataFrame({'SPECIFICITY':[c_random[0], c_GC[0], c_codon[0], c_WMM[0]], 'FPR':[c_random[1], c_GC[1], c_codon[1], c_WMM[1]]}, index=lab)\n",
    "print(df) "
   ]
  },
  {
   "cell_type": "code",
   "execution_count": 22,
   "id": "a2a5906f",
   "metadata": {},
   "outputs": [
    {
     "data": {
      "text/plain": [
       "<matplotlib.legend.Legend at 0x124d67250>"
      ]
     },
     "execution_count": 22,
     "metadata": {},
     "output_type": "execute_result"
    },
    {
     "data": {
      "image/png": "[encoded data removed]",
      "text/plain": [
       "<Figure size 640x480 with 1 Axes>"
      ]
     },
     "metadata": {},
     "output_type": "display_data"
    }
   ],
   "source": [
    "plt = df.plot.bar(rot = 0, color = {'SPECIFICITY':'#FCF5AC', 'FPR':'#FCACE5'})\n",
    "plt.legend(loc = 'lower left')        "
   ]
  }
 ],
 "metadata": {
  "kernelspec": {
   "display_name": "Python 3 (ipykernel)",
   "language": "python",
   "name": "python3"
  },
  "language_info": {
   "codemirror_mode": {
    "name": "ipython",
    "version": 3
   },
   "file_extension": ".py",
   "mimetype": "text/x-python",
   "name": "python",
   "nbconvert_exporter": "python",
   "pygments_lexer": "ipython3",
   "version": "3.11.4"
  }
 },
 "nbformat": 4,
 "nbformat_minor": 5
}
